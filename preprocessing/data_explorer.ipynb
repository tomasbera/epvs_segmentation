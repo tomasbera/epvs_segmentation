{
 "cells": [
  {
   "metadata": {
    "ExecuteTime": {
     "end_time": "2025-09-27T11:06:58.656739Z",
     "start_time": "2025-09-27T11:06:58.645594Z"
    }
   },
   "cell_type": "code",
   "source": [
    "import os\n",
    "\n",
    "import SimpleITK as sitk\n",
    "import importlib\n",
    "\n",
    "from master import helpers\n",
    "\n",
    "importlib.reload(helpers)\n",
    "from master.helpers import explore_3D_data, explore_3D_data_comparison, explore_3D_data_with_mask\n",
    "from master.filter_methods import N4_bias_filter\n"
   ],
   "id": "fbea296522c3add7",
   "outputs": [],
   "execution_count": 18
  },
  {
   "metadata": {
    "ExecuteTime": {
     "end_time": "2025-09-27T11:06:58.690631Z",
     "start_time": "2025-09-27T11:06:58.686792Z"
    }
   },
   "cell_type": "code",
   "source": [
    "root_dir = \"../dataset\"\n",
    "\n",
    "t2_file = None"
   ],
   "id": "b3c3e6c16f0feb55",
   "outputs": [],
   "execution_count": 19
  },
  {
   "metadata": {
    "ExecuteTime": {
     "end_time": "2025-09-27T11:06:58.866768Z",
     "start_time": "2025-09-27T11:06:58.696638Z"
    }
   },
   "cell_type": "code",
   "source": [
    "\n",
    "for root, dirs, files in os.walk(root_dir):\n",
    "    print(\"found root directory: \", root)\n",
    "    for f in files:\n",
    "        if f.endswith(\"_T2w.nii.gz\"):\n",
    "            t2_file = os.path.join(root, f)\n",
    "            break\n",
    "    if t2_file:\n",
    "        break"
   ],
   "id": "19b9edabf5651510",
   "outputs": [
    {
     "name": "stdout",
     "output_type": "stream",
     "text": [
      "found root directory:  dataset\n",
      "found root directory:  dataset\\nii_output\n",
      "found root directory:  dataset\\nii_output\\temp\n",
      "found root directory:  dataset\\opennero\n",
      "found root directory:  dataset\\opennero\\derivatives\n",
      "found root directory:  dataset\\opennero\\derivatives\\mask\n",
      "found root directory:  dataset\\opennero\\derivatives\\mask\\sub-001\n",
      "found root directory:  dataset\\opennero\\derivatives\\mask\\sub-002\n",
      "found root directory:  dataset\\opennero\\derivatives\\mask\\sub-003\n",
      "found root directory:  dataset\\opennero\\derivatives\\mask\\sub-004\n",
      "found root directory:  dataset\\opennero\\derivatives\\mask\\sub-005\n",
      "found root directory:  dataset\\opennero\\derivatives\\mask\\sub-006\n",
      "found root directory:  dataset\\opennero\\derivatives\\mask\\sub-007\n",
      "found root directory:  dataset\\opennero\\derivatives\\mask\\sub-008\n",
      "found root directory:  dataset\\opennero\\derivatives\\mask\\sub-009\n",
      "found root directory:  dataset\\opennero\\derivatives\\mask\\sub-010\n",
      "found root directory:  dataset\\opennero\\derivatives\\mask\\sub-011\n",
      "found root directory:  dataset\\opennero\\derivatives\\mask\\sub-012\n",
      "found root directory:  dataset\\opennero\\derivatives\\mask\\sub-013\n",
      "found root directory:  dataset\\opennero\\derivatives\\mask\\sub-014\n",
      "found root directory:  dataset\\opennero\\derivatives\\mask\\sub-015\n",
      "found root directory:  dataset\\opennero\\derivatives\\mask\\sub-016\n",
      "found root directory:  dataset\\opennero\\derivatives\\mask\\sub-017\n",
      "found root directory:  dataset\\opennero\\derivatives\\mask\\sub-018\n",
      "found root directory:  dataset\\opennero\\derivatives\\mask\\sub-019\n",
      "found root directory:  dataset\\opennero\\derivatives\\mask\\sub-020\n",
      "found root directory:  dataset\\opennero\\derivatives\\mask\\sub-021\n",
      "found root directory:  dataset\\opennero\\derivatives\\mask\\sub-022\n",
      "found root directory:  dataset\\opennero\\derivatives\\mask\\sub-023\n",
      "found root directory:  dataset\\opennero\\derivatives\\mask\\sub-024\n",
      "found root directory:  dataset\\opennero\\derivatives\\mask\\sub-025\n",
      "found root directory:  dataset\\opennero\\derivatives\\mask\\sub-026\n",
      "found root directory:  dataset\\opennero\\derivatives\\mask\\sub-027\n",
      "found root directory:  dataset\\opennero\\derivatives\\mask\\sub-028\n",
      "found root directory:  dataset\\opennero\\derivatives\\mask\\sub-029\n",
      "found root directory:  dataset\\opennero\\derivatives\\mask\\sub-030\n",
      "found root directory:  dataset\\opennero\\derivatives\\mask\\sub-031\n",
      "found root directory:  dataset\\opennero\\derivatives\\mask\\sub-032\n",
      "found root directory:  dataset\\opennero\\derivatives\\mask\\sub-033\n",
      "found root directory:  dataset\\opennero\\derivatives\\mask\\sub-034\n",
      "found root directory:  dataset\\opennero\\derivatives\\mask\\sub-035\n",
      "found root directory:  dataset\\opennero\\derivatives\\mask\\sub-036\n",
      "found root directory:  dataset\\opennero\\derivatives\\mask\\sub-037\n",
      "found root directory:  dataset\\opennero\\derivatives\\mask\\sub-038\n",
      "found root directory:  dataset\\opennero\\derivatives\\mask\\sub-039\n",
      "found root directory:  dataset\\opennero\\derivatives\\mask\\sub-040\n",
      "found root directory:  dataset\\opennero\\derivatives\\mask\\sub-041\n",
      "found root directory:  dataset\\opennero\\derivatives\\mask\\sub-042\n",
      "found root directory:  dataset\\opennero\\derivatives\\mask\\sub-043\n",
      "found root directory:  dataset\\opennero\\derivatives\\mask\\sub-044\n",
      "found root directory:  dataset\\opennero\\derivatives\\mask\\sub-045\n",
      "found root directory:  dataset\\opennero\\derivatives\\mask\\sub-046\n",
      "found root directory:  dataset\\opennero\\derivatives\\mask\\sub-047\n",
      "found root directory:  dataset\\opennero\\derivatives\\mask\\sub-048\n",
      "found root directory:  dataset\\opennero\\derivatives\\mask\\sub-049\n",
      "found root directory:  dataset\\opennero\\derivatives\\mask\\sub-050\n",
      "found root directory:  dataset\\opennero\\derivatives\\mask\\sub-051\n",
      "found root directory:  dataset\\opennero\\derivatives\\mask\\sub-052\n",
      "found root directory:  dataset\\opennero\\derivatives\\mask\\sub-053\n",
      "found root directory:  dataset\\opennero\\derivatives\\mask\\sub-054\n",
      "found root directory:  dataset\\opennero\\derivatives\\mask\\sub-055\n",
      "found root directory:  dataset\\opennero\\derivatives\\mask\\sub-056\n",
      "found root directory:  dataset\\opennero\\derivatives\\mask\\sub-057\n",
      "found root directory:  dataset\\opennero\\derivatives\\mask\\sub-058\n",
      "found root directory:  dataset\\opennero\\derivatives\\mask\\sub-059\n",
      "found root directory:  dataset\\opennero\\derivatives\\mask\\sub-060\n",
      "found root directory:  dataset\\opennero\\derivatives\\mask\\sub-061\n",
      "found root directory:  dataset\\opennero\\derivatives\\mask\\sub-062\n",
      "found root directory:  dataset\\opennero\\derivatives\\mask\\sub-063\n",
      "found root directory:  dataset\\opennero\\derivatives\\mask\\sub-064\n",
      "found root directory:  dataset\\opennero\\derivatives\\mask\\sub-065\n",
      "found root directory:  dataset\\opennero\\derivatives\\mask\\sub-066\n",
      "found root directory:  dataset\\opennero\\derivatives\\mask\\sub-067\n",
      "found root directory:  dataset\\opennero\\derivatives\\mask\\sub-068\n",
      "found root directory:  dataset\\opennero\\derivatives\\mask\\sub-069\n",
      "found root directory:  dataset\\opennero\\derivatives\\mask\\sub-070\n",
      "found root directory:  dataset\\opennero\\derivatives\\mask\\sub-071\n",
      "found root directory:  dataset\\opennero\\derivatives\\mask\\sub-072\n",
      "found root directory:  dataset\\opennero\\derivatives\\mask\\sub-073\n",
      "found root directory:  dataset\\opennero\\derivatives\\mask\\sub-074\n",
      "found root directory:  dataset\\opennero\\derivatives\\mask\\sub-075\n",
      "found root directory:  dataset\\opennero\\derivatives\\mask\\sub-076\n",
      "found root directory:  dataset\\opennero\\derivatives\\mask\\sub-077\n",
      "found root directory:  dataset\\opennero\\derivatives\\mask\\sub-078\n",
      "found root directory:  dataset\\opennero\\derivatives\\mask\\sub-079\n",
      "found root directory:  dataset\\opennero\\derivatives\\mask\\sub-080\n",
      "found root directory:  dataset\\opennero\\derivatives\\mask\\sub-081\n",
      "found root directory:  dataset\\opennero\\derivatives\\mask\\sub-082\n",
      "found root directory:  dataset\\opennero\\derivatives\\mask\\sub-083\n",
      "found root directory:  dataset\\opennero\\derivatives\\mask\\sub-084\n",
      "found root directory:  dataset\\opennero\\derivatives\\mask\\sub-085\n",
      "found root directory:  dataset\\opennero\\derivatives\\mask\\sub-086\n",
      "found root directory:  dataset\\opennero\\derivatives\\mask\\sub-087\n",
      "found root directory:  dataset\\opennero\\derivatives\\mask\\sub-088\n",
      "found root directory:  dataset\\opennero\\derivatives\\mask\\sub-089\n",
      "found root directory:  dataset\\opennero\\derivatives\\mask\\sub-090\n",
      "found root directory:  dataset\\opennero\\derivatives\\mask\\sub-091\n",
      "found root directory:  dataset\\opennero\\derivatives\\mask\\sub-092\n",
      "found root directory:  dataset\\opennero\\derivatives\\mask\\sub-093\n",
      "found root directory:  dataset\\opennero\\derivatives\\mask\\sub-094\n",
      "found root directory:  dataset\\opennero\\derivatives\\mask\\sub-095\n",
      "found root directory:  dataset\\opennero\\derivatives\\mask\\sub-096\n",
      "found root directory:  dataset\\opennero\\derivatives\\mask\\sub-097\n",
      "found root directory:  dataset\\opennero\\derivatives\\mask\\sub-098\n",
      "found root directory:  dataset\\opennero\\derivatives\\mask\\sub-099\n",
      "found root directory:  dataset\\opennero\\derivatives\\mask\\sub-100\n",
      "found root directory:  dataset\\opennero\\derivatives\\mask\\sub-101\n",
      "found root directory:  dataset\\opennero\\derivatives\\mask\\sub-102\n",
      "found root directory:  dataset\\opennero\\derivatives\\mask\\sub-103\n",
      "found root directory:  dataset\\opennero\\derivatives\\mask\\sub-104\n",
      "found root directory:  dataset\\opennero\\derivatives\\mask\\sub-105\n",
      "found root directory:  dataset\\opennero\\derivatives\\mask\\sub-106\n",
      "found root directory:  dataset\\opennero\\derivatives\\mask\\sub-107\n",
      "found root directory:  dataset\\opennero\\derivatives\\mask\\sub-108\n",
      "found root directory:  dataset\\opennero\\derivatives\\mask\\sub-109\n",
      "found root directory:  dataset\\opennero\\derivatives\\mask\\sub-110\n",
      "found root directory:  dataset\\opennero\\derivatives\\mask\\sub-111\n",
      "found root directory:  dataset\\opennero\\derivatives\\mask\\sub-112\n",
      "found root directory:  dataset\\opennero\\derivatives\\mask\\sub-113\n",
      "found root directory:  dataset\\opennero\\derivatives\\mask\\sub-114\n",
      "found root directory:  dataset\\opennero\\derivatives\\mask\\sub-115\n",
      "found root directory:  dataset\\opennero\\derivatives\\mask\\sub-116\n",
      "found root directory:  dataset\\opennero\\derivatives\\mask\\sub-117\n",
      "found root directory:  dataset\\opennero\\derivatives\\mask\\sub-118\n",
      "found root directory:  dataset\\opennero\\derivatives\\mask\\sub-119\n",
      "found root directory:  dataset\\opennero\\derivatives\\mask\\sub-120\n",
      "found root directory:  dataset\\opennero\\derivatives\\mask\\sub-121\n",
      "found root directory:  dataset\\opennero\\derivatives\\mask\\sub-122\n",
      "found root directory:  dataset\\opennero\\derivatives\\mask\\sub-123\n",
      "found root directory:  dataset\\opennero\\derivatives\\mask\\sub-124\n",
      "found root directory:  dataset\\opennero\\derivatives\\mask\\sub-125\n",
      "found root directory:  dataset\\opennero\\derivatives\\mask\\sub-126\n",
      "found root directory:  dataset\\opennero\\derivatives\\mask\\sub-127\n",
      "found root directory:  dataset\\opennero\\derivatives\\mask\\sub-128\n",
      "found root directory:  dataset\\opennero\\derivatives\\mask\\sub-129\n",
      "found root directory:  dataset\\opennero\\derivatives\\mask\\sub-130\n",
      "found root directory:  dataset\\opennero\\derivatives\\mask\\sub-131\n",
      "found root directory:  dataset\\opennero\\derivatives\\mask\\sub-132\n",
      "found root directory:  dataset\\opennero\\derivatives\\mask\\sub-133\n",
      "found root directory:  dataset\\opennero\\derivatives\\mask\\sub-134\n",
      "found root directory:  dataset\\opennero\\derivatives\\mask\\sub-135\n",
      "found root directory:  dataset\\opennero\\derivatives\\mask\\sub-136\n",
      "found root directory:  dataset\\opennero\\derivatives\\mask\\sub-137\n",
      "found root directory:  dataset\\opennero\\derivatives\\mask\\sub-138\n",
      "found root directory:  dataset\\opennero\\derivatives\\mask\\sub-139\n",
      "found root directory:  dataset\\opennero\\derivatives\\mask\\sub-140\n",
      "found root directory:  dataset\\opennero\\derivatives\\mask\\sub-141\n",
      "found root directory:  dataset\\opennero\\derivatives\\mask\\sub-142\n",
      "found root directory:  dataset\\opennero\\derivatives\\mask\\sub-143\n",
      "found root directory:  dataset\\opennero\\derivatives\\mask\\sub-144\n",
      "found root directory:  dataset\\opennero\\derivatives\\mask\\sub-145\n",
      "found root directory:  dataset\\opennero\\derivatives\\mask\\sub-146\n",
      "found root directory:  dataset\\opennero\\derivatives\\mask\\sub-147\n",
      "found root directory:  dataset\\opennero\\derivatives\\mask\\sub-148\n",
      "found root directory:  dataset\\opennero\\derivatives\\mask\\sub-149\n",
      "found root directory:  dataset\\opennero\\derivatives\\mask\\sub-150\n",
      "found root directory:  dataset\\opennero\\derivatives\\mask\\sub-151\n",
      "found root directory:  dataset\\opennero\\derivatives\\mask\\sub-152\n",
      "found root directory:  dataset\\opennero\\derivatives\\mask\\sub-153\n",
      "found root directory:  dataset\\opennero\\derivatives\\mask\\sub-154\n",
      "found root directory:  dataset\\opennero\\derivatives\\mask\\sub-155\n",
      "found root directory:  dataset\\opennero\\derivatives\\mask\\sub-156\n",
      "found root directory:  dataset\\opennero\\derivatives\\mask\\sub-157\n",
      "found root directory:  dataset\\opennero\\derivatives\\mask\\sub-158\n",
      "found root directory:  dataset\\opennero\\derivatives\\mask\\sub-159\n",
      "found root directory:  dataset\\opennero\\derivatives\\mask\\sub-160\n",
      "found root directory:  dataset\\opennero\\derivatives\\mask\\sub-161\n",
      "found root directory:  dataset\\opennero\\derivatives\\mask\\sub-162\n",
      "found root directory:  dataset\\opennero\\derivatives\\mask\\sub-163\n",
      "found root directory:  dataset\\opennero\\derivatives\\mask\\sub-164\n",
      "found root directory:  dataset\\opennero\\derivatives\\mask\\sub-165\n",
      "found root directory:  dataset\\opennero\\derivatives\\mask\\sub-166\n",
      "found root directory:  dataset\\opennero\\derivatives\\mask\\sub-167\n",
      "found root directory:  dataset\\opennero\\derivatives\\mask\\sub-168\n",
      "found root directory:  dataset\\opennero\\derivatives\\mask\\sub-169\n",
      "found root directory:  dataset\\opennero\\derivatives\\mask\\sub-170\n",
      "found root directory:  dataset\\opennero\\derivatives\\mask\\sub-171\n",
      "found root directory:  dataset\\opennero\\derivatives\\mask\\sub-172\n",
      "found root directory:  dataset\\opennero\\derivatives\\mask\\sub-173\n",
      "found root directory:  dataset\\opennero\\derivatives\\mask\\sub-174\n",
      "found root directory:  dataset\\opennero\\derivatives\\mask\\sub-175\n",
      "found root directory:  dataset\\opennero\\derivatives\\mask\\sub-176\n",
      "found root directory:  dataset\\opennero\\derivatives\\mask\\sub-177\n",
      "found root directory:  dataset\\opennero\\derivatives\\mask\\sub-178\n",
      "found root directory:  dataset\\opennero\\derivatives\\mask\\sub-179\n",
      "found root directory:  dataset\\opennero\\derivatives\\mask\\sub-180\n",
      "found root directory:  dataset\\opennero\\derivatives\\mask\\sub-181\n",
      "found root directory:  dataset\\opennero\\derivatives\\mask\\sub-182\n",
      "found root directory:  dataset\\opennero\\derivatives\\mask\\sub-183\n",
      "found root directory:  dataset\\opennero\\derivatives\\mask\\sub-184\n",
      "found root directory:  dataset\\opennero\\derivatives\\mask\\sub-185\n",
      "found root directory:  dataset\\opennero\\derivatives\\mask\\sub-186\n",
      "found root directory:  dataset\\opennero\\derivatives\\mask\\sub-187\n",
      "found root directory:  dataset\\opennero\\derivatives\\mask\\sub-188\n",
      "found root directory:  dataset\\opennero\\derivatives\\mask\\sub-189\n",
      "found root directory:  dataset\\opennero\\derivatives\\mask\\sub-190\n",
      "found root directory:  dataset\\opennero\\derivatives\\mask\\sub-191\n",
      "found root directory:  dataset\\opennero\\derivatives\\mask\\sub-192\n",
      "found root directory:  dataset\\opennero\\derivatives\\mask\\sub-193\n",
      "found root directory:  dataset\\opennero\\derivatives\\mask\\sub-194\n",
      "found root directory:  dataset\\opennero\\derivatives\\mask\\sub-195\n",
      "found root directory:  dataset\\opennero\\derivatives\\mask\\sub-196\n",
      "found root directory:  dataset\\opennero\\derivatives\\mask\\sub-197\n",
      "found root directory:  dataset\\opennero\\derivatives\\mask\\sub-198\n",
      "found root directory:  dataset\\opennero\\derivatives\\mask\\sub-199\n",
      "found root directory:  dataset\\opennero\\derivatives\\mask\\sub-200\n",
      "found root directory:  dataset\\opennero\\sub-001\n",
      "found root directory:  dataset\\opennero\\sub-001\\anat\n"
     ]
    }
   ],
   "execution_count": 20
  },
  {
   "metadata": {
    "ExecuteTime": {
     "end_time": "2025-09-27T11:06:58.952468Z",
     "start_time": "2025-09-27T11:06:58.890317Z"
    }
   },
   "cell_type": "code",
   "source": [
    "\n",
    "if t2_file:\n",
    "    print(\"Found T2W: \", t2_file)\n",
    "    raw_img_sitk = sitk.ReadImage(t2_file)\n",
    "    raw_img_sitk =  sitk.DICOMOrient(raw_img_sitk,'RPS')\n",
    "    raw_img_sitk_arr = sitk.GetArrayFromImage(raw_img_sitk)\n",
    "\n",
    "else:\n",
    "    print(\"No T2W found\")"
   ],
   "id": "31966b3cfb1d1cab",
   "outputs": [
    {
     "name": "stdout",
     "output_type": "stream",
     "text": [
      "Found T2W:  dataset\\opennero\\sub-001\\anat\\sub-001_T2w.nii.gz\n"
     ]
    }
   ],
   "execution_count": 21
  },
  {
   "metadata": {
    "ExecuteTime": {
     "end_time": "2025-09-27T11:06:59.038001Z",
     "start_time": "2025-09-27T11:06:58.967430Z"
    }
   },
   "cell_type": "code",
   "source": "explore_3D_data(raw_img_sitk_arr, cmap=\"gray\")",
   "id": "1da3d5bc65429130",
   "outputs": [
    {
     "data": {
      "text/plain": [
       "interactive(children=(IntSlider(value=159, description='SLICE', max=319), Output()), _dom_classes=('widget-int…"
      ],
      "application/vnd.jupyter.widget-view+json": {
       "version_major": 2,
       "version_minor": 0,
       "model_id": "7544a748b6df4dc19263afa9325022f6"
      }
     },
     "metadata": {},
     "output_type": "display_data"
    }
   ],
   "execution_count": 22
  },
  {
   "metadata": {
    "ExecuteTime": {
     "end_time": "2025-09-27T11:16:59.525716Z",
     "start_time": "2025-09-27T11:16:59.312451Z"
    }
   },
   "cell_type": "code",
   "source": [
    "raw_img_sitk = sitk.ReadImage(\"vesselness_output.nii.gz\")\n",
    "raw_img_sitk = sitk.DICOMOrient(raw_img_sitk, 'RPS')\n",
    "raw_img_sitk_arr = sitk.GetArrayFromImage(raw_img_sitk)\n",
    "\n",
    "explore_3D_data(raw_img_sitk_arr, cmap=\"grey\")"
   ],
   "id": "c79659867abc1b25",
   "outputs": [
    {
     "data": {
      "text/plain": [
       "interactive(children=(IntSlider(value=159, description='SLICE', max=319), Output()), _dom_classes=('widget-int…"
      ],
      "application/vnd.jupyter.widget-view+json": {
       "version_major": 2,
       "version_minor": 0,
       "model_id": "cea303751cc54da5bb207f9eaa295073"
      }
     },
     "metadata": {},
     "output_type": "display_data"
    }
   ],
   "execution_count": 43
  },
  {
   "metadata": {
    "ExecuteTime": {
     "end_time": "2025-09-27T11:07:00.290800Z",
     "start_time": "2025-09-27T11:06:59.488246Z"
    }
   },
   "cell_type": "code",
   "source": "n4_filt_img = N4_bias_filter(raw_img_sitk)",
   "id": "b1883deda4ef9d4b",
   "outputs": [],
   "execution_count": 24
  },
  {
   "metadata": {
    "ExecuteTime": {
     "end_time": "2025-09-27T11:07:00.540046Z",
     "start_time": "2025-09-27T11:07:00.294283Z"
    }
   },
   "cell_type": "code",
   "source": [
    "explore_3D_data_comparison(arr_before=raw_img_sitk_arr,\n",
    "                           arr_after=sitk.GetArrayFromImage(n4_filt_img),\n",
    "                           cmap=\"grey\"\n",
    "                           )"
   ],
   "id": "85e9648dcc9ec1d5",
   "outputs": [
    {
     "data": {
      "text/plain": [
       "interactive(children=(IntSlider(value=159, description='SLICE', max=319), Output()), _dom_classes=('widget-int…"
      ],
      "application/vnd.jupyter.widget-view+json": {
       "version_major": 2,
       "version_minor": 0,
       "model_id": "219562780a334c7d8b75476d44611ae6"
      }
     },
     "metadata": {},
     "output_type": "display_data"
    }
   ],
   "execution_count": 25
  },
  {
   "metadata": {
    "ExecuteTime": {
     "end_time": "2025-09-27T11:15:47.377581Z",
     "start_time": "2025-09-27T11:15:47.020629Z"
    }
   },
   "cell_type": "code",
   "source": [
    "img_mask = sitk.ReadImage(\"vesselness_output.nii.gz\", sitk.sitkFloat32)\n",
    "img_mask = sitk.DICOMOrient(img_mask,'RPS')\n",
    "masked_arr = sitk.GetArrayFromImage(img_mask)\n",
    "\n",
    "raw_img_sitk = sitk.ReadImage(\"dataset/opennero/derivatives/mask/sub-001/sub-001_desc-mask_PVS.nii.gz\", sitk.sitkFloat32)\n",
    "raw_img_sitk =  sitk.DICOMOrient(raw_img_sitk,'RPS')\n",
    "raw_img_sitk_arr = sitk.GetArrayFromImage(raw_img_sitk)\n",
    "\n",
    "explore_3D_data_with_mask(\n",
    "    arr=raw_img_sitk_arr,\n",
    "    mask=masked_arr,\n",
    "    alpha=0.8,\n",
    "    cmap=\"grey\"\n",
    ")\n",
    "\n"
   ],
   "id": "6bdae4568bcf5fc6",
   "outputs": [
    {
     "data": {
      "text/plain": [
       "interactive(children=(IntSlider(value=159, description='SLICE', max=319), Output()), _dom_classes=('widget-int…"
      ],
      "application/vnd.jupyter.widget-view+json": {
       "version_major": 2,
       "version_minor": 0,
       "model_id": "c7b418b7088a4a088266f1c6006de456"
      }
     },
     "metadata": {},
     "output_type": "display_data"
    }
   ],
   "execution_count": 36
  },
  {
   "metadata": {
    "ExecuteTime": {
     "end_time": "2025-09-27T11:07:00.939434Z",
     "start_time": "2025-09-27T11:07:00.936754Z"
    }
   },
   "cell_type": "code",
   "source": "\n",
   "id": "ffcbd82bc2fbeb6b",
   "outputs": [],
   "execution_count": 26
  }
 ],
 "metadata": {
  "kernelspec": {
   "display_name": "Python 3",
   "language": "python",
   "name": "python3"
  },
  "language_info": {
   "codemirror_mode": {
    "name": "ipython",
    "version": 2
   },
   "file_extension": ".py",
   "mimetype": "text/x-python",
   "name": "python",
   "nbconvert_exporter": "python",
   "pygments_lexer": "ipython2",
   "version": "2.7.6"
  }
 },
 "nbformat": 4,
 "nbformat_minor": 5
}
