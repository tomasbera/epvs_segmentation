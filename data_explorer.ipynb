{
 "cells": [
  {
   "metadata": {
    "ExecuteTime": {
     "end_time": "2025-10-14T11:12:37.590044Z",
     "start_time": "2025-10-14T11:12:37.585798Z"
    }
   },
   "cell_type": "code",
   "source": [
    "import os\n",
    "\n",
    "import SimpleITK as sitk\n",
    "import importlib\n",
    "\n",
    "import helpers\n",
    "\n",
    "importlib.reload(helpers)\n",
    "from helpers import explore_3D_data, explore_3D_data_comparison, explore_3D_data_with_mask\n",
    "from preprocessing.filter_methods import N4_bias_filter\n"
   ],
   "id": "5df4b71034e05b84",
   "outputs": [],
   "execution_count": 14
  },
  {
   "metadata": {
    "ExecuteTime": {
     "end_time": "2025-10-14T11:12:37.611017Z",
     "start_time": "2025-10-14T11:12:37.607794Z"
    }
   },
   "cell_type": "code",
   "source": [
    "root_dir = \"dataset\"\n",
    "\n",
    "t2_file = None"
   ],
   "id": "5f8585a70fdf67ec",
   "outputs": [],
   "execution_count": 15
  },
  {
   "metadata": {
    "ExecuteTime": {
     "end_time": "2025-10-14T11:12:37.673362Z",
     "start_time": "2025-10-14T11:12:37.617598Z"
    }
   },
   "cell_type": "code",
   "source": [
    "\n",
    "for root, dirs, files in os.walk(root_dir):\n",
    "    print(\"found root directory: \", root)\n",
    "    for f in files:\n",
    "        if f.endswith(\"_T2w.nii.gz\"):\n",
    "            t2_file = os.path.join(root, f)\n",
    "            break\n",
    "    if t2_file:\n",
    "        break"
   ],
   "id": "19b9edabf5651510",
   "outputs": [
    {
     "name": "stdout",
     "output_type": "stream",
     "text": [
      "found root directory:  dataset\n",
      "found root directory:  dataset\\binary_epvs_groundtruth\n",
      "found root directory:  dataset\\binary_epvs_groundtruth\\mask\n",
      "found root directory:  dataset\\binary_epvs_groundtruth\\mask\\sub-001\n",
      "found root directory:  dataset\\binary_epvs_groundtruth\\mask\\sub-002\n",
      "found root directory:  dataset\\binary_epvs_groundtruth\\mask\\sub-003\n",
      "found root directory:  dataset\\binary_epvs_groundtruth\\mask\\sub-004\n",
      "found root directory:  dataset\\binary_epvs_groundtruth\\mask\\sub-005\n",
      "found root directory:  dataset\\binary_epvs_groundtruth\\mask\\sub-006\n",
      "found root directory:  dataset\\binary_epvs_groundtruth\\mask\\sub-007\n",
      "found root directory:  dataset\\binary_epvs_groundtruth\\mask\\sub-008\n",
      "found root directory:  dataset\\binary_epvs_groundtruth\\mask\\sub-009\n",
      "found root directory:  dataset\\binary_epvs_groundtruth\\mask\\sub-010\n",
      "found root directory:  dataset\\binary_epvs_groundtruth\\mask\\sub-011\n",
      "found root directory:  dataset\\binary_epvs_groundtruth\\mask\\sub-012\n",
      "found root directory:  dataset\\binary_epvs_groundtruth\\mask\\sub-013\n",
      "found root directory:  dataset\\binary_epvs_groundtruth\\mask\\sub-014\n",
      "found root directory:  dataset\\binary_epvs_groundtruth\\mask\\sub-015\n",
      "found root directory:  dataset\\binary_epvs_groundtruth\\mask\\sub-016\n",
      "found root directory:  dataset\\binary_epvs_groundtruth\\mask\\sub-017\n",
      "found root directory:  dataset\\binary_epvs_groundtruth\\mask\\sub-018\n",
      "found root directory:  dataset\\binary_epvs_groundtruth\\mask\\sub-019\n",
      "found root directory:  dataset\\binary_epvs_groundtruth\\mask\\sub-020\n",
      "found root directory:  dataset\\binary_epvs_groundtruth\\mask\\sub-021\n",
      "found root directory:  dataset\\binary_epvs_groundtruth\\mask\\sub-022\n",
      "found root directory:  dataset\\binary_epvs_groundtruth\\mask\\sub-023\n",
      "found root directory:  dataset\\binary_epvs_groundtruth\\mask\\sub-024\n",
      "found root directory:  dataset\\binary_epvs_groundtruth\\mask\\sub-025\n",
      "found root directory:  dataset\\binary_epvs_groundtruth\\mask\\sub-026\n",
      "found root directory:  dataset\\binary_epvs_groundtruth\\mask\\sub-027\n",
      "found root directory:  dataset\\binary_epvs_groundtruth\\mask\\sub-028\n",
      "found root directory:  dataset\\binary_epvs_groundtruth\\mask\\sub-029\n",
      "found root directory:  dataset\\binary_epvs_groundtruth\\mask\\sub-030\n",
      "found root directory:  dataset\\binary_epvs_groundtruth\\mask\\sub-031\n",
      "found root directory:  dataset\\binary_epvs_groundtruth\\mask\\sub-032\n",
      "found root directory:  dataset\\binary_epvs_groundtruth\\mask\\sub-033\n",
      "found root directory:  dataset\\binary_epvs_groundtruth\\mask\\sub-034\n",
      "found root directory:  dataset\\binary_epvs_groundtruth\\mask\\sub-035\n",
      "found root directory:  dataset\\binary_epvs_groundtruth\\mask\\sub-036\n",
      "found root directory:  dataset\\binary_epvs_groundtruth\\mask\\sub-037\n",
      "found root directory:  dataset\\binary_epvs_groundtruth\\mask\\sub-038\n",
      "found root directory:  dataset\\binary_epvs_groundtruth\\mask\\sub-039\n",
      "found root directory:  dataset\\binary_epvs_groundtruth\\mask\\sub-040\n",
      "found root directory:  dataset\\binary_epvs_groundtruth\\mask\\sub-041\n",
      "found root directory:  dataset\\binary_epvs_groundtruth\\mask\\sub-042\n",
      "found root directory:  dataset\\binary_epvs_groundtruth\\mask\\sub-043\n",
      "found root directory:  dataset\\binary_epvs_groundtruth\\mask\\sub-044\n",
      "found root directory:  dataset\\binary_epvs_groundtruth\\mask\\sub-045\n",
      "found root directory:  dataset\\binary_epvs_groundtruth\\mask\\sub-046\n",
      "found root directory:  dataset\\binary_epvs_groundtruth\\mask\\sub-047\n",
      "found root directory:  dataset\\binary_epvs_groundtruth\\mask\\sub-048\n",
      "found root directory:  dataset\\binary_epvs_groundtruth\\mask\\sub-049\n",
      "found root directory:  dataset\\binary_epvs_groundtruth\\mask\\sub-050\n",
      "found root directory:  dataset\\binary_epvs_groundtruth\\mask\\sub-051\n",
      "found root directory:  dataset\\binary_epvs_groundtruth\\mask\\sub-052\n",
      "found root directory:  dataset\\binary_epvs_groundtruth\\mask\\sub-053\n",
      "found root directory:  dataset\\binary_epvs_groundtruth\\mask\\sub-054\n",
      "found root directory:  dataset\\binary_epvs_groundtruth\\mask\\sub-055\n",
      "found root directory:  dataset\\binary_epvs_groundtruth\\mask\\sub-056\n",
      "found root directory:  dataset\\binary_epvs_groundtruth\\mask\\sub-057\n",
      "found root directory:  dataset\\binary_epvs_groundtruth\\mask\\sub-058\n",
      "found root directory:  dataset\\binary_epvs_groundtruth\\mask\\sub-059\n",
      "found root directory:  dataset\\binary_epvs_groundtruth\\mask\\sub-060\n",
      "found root directory:  dataset\\binary_epvs_groundtruth\\mask\\sub-061\n",
      "found root directory:  dataset\\binary_epvs_groundtruth\\mask\\sub-062\n",
      "found root directory:  dataset\\binary_epvs_groundtruth\\mask\\sub-063\n",
      "found root directory:  dataset\\binary_epvs_groundtruth\\mask\\sub-064\n",
      "found root directory:  dataset\\binary_epvs_groundtruth\\mask\\sub-065\n",
      "found root directory:  dataset\\binary_epvs_groundtruth\\mask\\sub-066\n",
      "found root directory:  dataset\\binary_epvs_groundtruth\\mask\\sub-067\n",
      "found root directory:  dataset\\binary_epvs_groundtruth\\mask\\sub-068\n",
      "found root directory:  dataset\\binary_epvs_groundtruth\\mask\\sub-069\n",
      "found root directory:  dataset\\binary_epvs_groundtruth\\mask\\sub-070\n",
      "found root directory:  dataset\\binary_epvs_groundtruth\\mask\\sub-071\n",
      "found root directory:  dataset\\binary_epvs_groundtruth\\mask\\sub-072\n",
      "found root directory:  dataset\\binary_epvs_groundtruth\\mask\\sub-073\n",
      "found root directory:  dataset\\binary_epvs_groundtruth\\mask\\sub-074\n",
      "found root directory:  dataset\\binary_epvs_groundtruth\\mask\\sub-075\n",
      "found root directory:  dataset\\binary_epvs_groundtruth\\mask\\sub-076\n",
      "found root directory:  dataset\\binary_epvs_groundtruth\\mask\\sub-077\n",
      "found root directory:  dataset\\binary_epvs_groundtruth\\mask\\sub-078\n",
      "found root directory:  dataset\\binary_epvs_groundtruth\\mask\\sub-079\n",
      "found root directory:  dataset\\binary_epvs_groundtruth\\mask\\sub-080\n",
      "found root directory:  dataset\\binary_epvs_groundtruth\\mask\\sub-081\n",
      "found root directory:  dataset\\binary_epvs_groundtruth\\mask\\sub-082\n",
      "found root directory:  dataset\\binary_epvs_groundtruth\\mask\\sub-083\n",
      "found root directory:  dataset\\binary_epvs_groundtruth\\mask\\sub-084\n",
      "found root directory:  dataset\\binary_epvs_groundtruth\\mask\\sub-085\n",
      "found root directory:  dataset\\binary_epvs_groundtruth\\mask\\sub-086\n",
      "found root directory:  dataset\\binary_epvs_groundtruth\\mask\\sub-087\n",
      "found root directory:  dataset\\binary_epvs_groundtruth\\mask\\sub-088\n",
      "found root directory:  dataset\\binary_epvs_groundtruth\\mask\\sub-089\n",
      "found root directory:  dataset\\binary_epvs_groundtruth\\mask\\sub-090\n",
      "found root directory:  dataset\\binary_epvs_groundtruth\\mask\\sub-091\n",
      "found root directory:  dataset\\binary_epvs_groundtruth\\mask\\sub-092\n",
      "found root directory:  dataset\\binary_epvs_groundtruth\\mask\\sub-093\n",
      "found root directory:  dataset\\binary_epvs_groundtruth\\mask\\sub-094\n",
      "found root directory:  dataset\\binary_epvs_groundtruth\\mask\\sub-095\n",
      "found root directory:  dataset\\binary_epvs_groundtruth\\mask\\sub-096\n",
      "found root directory:  dataset\\binary_epvs_groundtruth\\mask\\sub-097\n",
      "found root directory:  dataset\\binary_epvs_groundtruth\\mask\\sub-098\n",
      "found root directory:  dataset\\binary_epvs_groundtruth\\mask\\sub-099\n",
      "found root directory:  dataset\\binary_epvs_groundtruth\\mask\\sub-100\n",
      "found root directory:  dataset\\binary_epvs_groundtruth\\mask\\sub-101\n",
      "found root directory:  dataset\\binary_epvs_groundtruth\\mask\\sub-102\n",
      "found root directory:  dataset\\binary_epvs_groundtruth\\mask\\sub-103\n",
      "found root directory:  dataset\\binary_epvs_groundtruth\\mask\\sub-104\n",
      "found root directory:  dataset\\binary_epvs_groundtruth\\mask\\sub-105\n",
      "found root directory:  dataset\\binary_epvs_groundtruth\\mask\\sub-106\n",
      "found root directory:  dataset\\binary_epvs_groundtruth\\mask\\sub-107\n",
      "found root directory:  dataset\\binary_epvs_groundtruth\\mask\\sub-108\n",
      "found root directory:  dataset\\binary_epvs_groundtruth\\mask\\sub-109\n",
      "found root directory:  dataset\\binary_epvs_groundtruth\\mask\\sub-110\n",
      "found root directory:  dataset\\binary_epvs_groundtruth\\mask\\sub-111\n",
      "found root directory:  dataset\\binary_epvs_groundtruth\\mask\\sub-112\n",
      "found root directory:  dataset\\binary_epvs_groundtruth\\mask\\sub-113\n",
      "found root directory:  dataset\\binary_epvs_groundtruth\\mask\\sub-114\n",
      "found root directory:  dataset\\binary_epvs_groundtruth\\mask\\sub-115\n",
      "found root directory:  dataset\\binary_epvs_groundtruth\\mask\\sub-116\n",
      "found root directory:  dataset\\binary_epvs_groundtruth\\mask\\sub-117\n",
      "found root directory:  dataset\\binary_epvs_groundtruth\\mask\\sub-118\n",
      "found root directory:  dataset\\binary_epvs_groundtruth\\mask\\sub-119\n",
      "found root directory:  dataset\\binary_epvs_groundtruth\\mask\\sub-120\n",
      "found root directory:  dataset\\binary_epvs_groundtruth\\mask\\sub-121\n",
      "found root directory:  dataset\\binary_epvs_groundtruth\\mask\\sub-122\n",
      "found root directory:  dataset\\binary_epvs_groundtruth\\mask\\sub-123\n",
      "found root directory:  dataset\\binary_epvs_groundtruth\\mask\\sub-124\n",
      "found root directory:  dataset\\binary_epvs_groundtruth\\mask\\sub-125\n",
      "found root directory:  dataset\\binary_epvs_groundtruth\\mask\\sub-126\n",
      "found root directory:  dataset\\binary_epvs_groundtruth\\mask\\sub-127\n",
      "found root directory:  dataset\\binary_epvs_groundtruth\\mask\\sub-128\n",
      "found root directory:  dataset\\binary_epvs_groundtruth\\mask\\sub-129\n",
      "found root directory:  dataset\\binary_epvs_groundtruth\\mask\\sub-130\n",
      "found root directory:  dataset\\binary_epvs_groundtruth\\mask\\sub-131\n",
      "found root directory:  dataset\\binary_epvs_groundtruth\\mask\\sub-132\n",
      "found root directory:  dataset\\binary_epvs_groundtruth\\mask\\sub-133\n",
      "found root directory:  dataset\\binary_epvs_groundtruth\\mask\\sub-134\n",
      "found root directory:  dataset\\binary_epvs_groundtruth\\mask\\sub-135\n",
      "found root directory:  dataset\\binary_epvs_groundtruth\\mask\\sub-136\n",
      "found root directory:  dataset\\binary_epvs_groundtruth\\mask\\sub-137\n",
      "found root directory:  dataset\\binary_epvs_groundtruth\\mask\\sub-138\n",
      "found root directory:  dataset\\binary_epvs_groundtruth\\mask\\sub-139\n",
      "found root directory:  dataset\\binary_epvs_groundtruth\\mask\\sub-140\n",
      "found root directory:  dataset\\binary_epvs_groundtruth\\mask\\sub-141\n",
      "found root directory:  dataset\\binary_epvs_groundtruth\\mask\\sub-142\n",
      "found root directory:  dataset\\binary_epvs_groundtruth\\mask\\sub-143\n",
      "found root directory:  dataset\\binary_epvs_groundtruth\\mask\\sub-144\n",
      "found root directory:  dataset\\binary_epvs_groundtruth\\mask\\sub-145\n",
      "found root directory:  dataset\\binary_epvs_groundtruth\\mask\\sub-146\n",
      "found root directory:  dataset\\binary_epvs_groundtruth\\mask\\sub-147\n",
      "found root directory:  dataset\\binary_epvs_groundtruth\\mask\\sub-148\n",
      "found root directory:  dataset\\binary_epvs_groundtruth\\mask\\sub-149\n",
      "found root directory:  dataset\\binary_epvs_groundtruth\\mask\\sub-150\n",
      "found root directory:  dataset\\binary_epvs_groundtruth\\mask\\sub-151\n",
      "found root directory:  dataset\\binary_epvs_groundtruth\\mask\\sub-152\n",
      "found root directory:  dataset\\binary_epvs_groundtruth\\mask\\sub-153\n",
      "found root directory:  dataset\\binary_epvs_groundtruth\\mask\\sub-154\n",
      "found root directory:  dataset\\binary_epvs_groundtruth\\mask\\sub-155\n",
      "found root directory:  dataset\\binary_epvs_groundtruth\\mask\\sub-156\n",
      "found root directory:  dataset\\binary_epvs_groundtruth\\mask\\sub-157\n",
      "found root directory:  dataset\\binary_epvs_groundtruth\\mask\\sub-158\n",
      "found root directory:  dataset\\binary_epvs_groundtruth\\mask\\sub-159\n",
      "found root directory:  dataset\\binary_epvs_groundtruth\\mask\\sub-160\n",
      "found root directory:  dataset\\binary_epvs_groundtruth\\mask\\sub-161\n",
      "found root directory:  dataset\\binary_epvs_groundtruth\\mask\\sub-162\n",
      "found root directory:  dataset\\binary_epvs_groundtruth\\mask\\sub-163\n",
      "found root directory:  dataset\\binary_epvs_groundtruth\\mask\\sub-164\n",
      "found root directory:  dataset\\binary_epvs_groundtruth\\mask\\sub-165\n",
      "found root directory:  dataset\\binary_epvs_groundtruth\\mask\\sub-166\n",
      "found root directory:  dataset\\binary_epvs_groundtruth\\mask\\sub-167\n",
      "found root directory:  dataset\\binary_epvs_groundtruth\\mask\\sub-168\n",
      "found root directory:  dataset\\binary_epvs_groundtruth\\mask\\sub-169\n",
      "found root directory:  dataset\\binary_epvs_groundtruth\\mask\\sub-170\n",
      "found root directory:  dataset\\binary_epvs_groundtruth\\mask\\sub-171\n",
      "found root directory:  dataset\\binary_epvs_groundtruth\\mask\\sub-172\n",
      "found root directory:  dataset\\binary_epvs_groundtruth\\mask\\sub-173\n",
      "found root directory:  dataset\\binary_epvs_groundtruth\\mask\\sub-174\n",
      "found root directory:  dataset\\binary_epvs_groundtruth\\mask\\sub-175\n",
      "found root directory:  dataset\\binary_epvs_groundtruth\\mask\\sub-176\n",
      "found root directory:  dataset\\binary_epvs_groundtruth\\mask\\sub-177\n",
      "found root directory:  dataset\\binary_epvs_groundtruth\\mask\\sub-178\n",
      "found root directory:  dataset\\binary_epvs_groundtruth\\mask\\sub-179\n",
      "found root directory:  dataset\\binary_epvs_groundtruth\\mask\\sub-180\n",
      "found root directory:  dataset\\binary_epvs_groundtruth\\mask\\sub-181\n",
      "found root directory:  dataset\\binary_epvs_groundtruth\\mask\\sub-182\n",
      "found root directory:  dataset\\binary_epvs_groundtruth\\mask\\sub-183\n",
      "found root directory:  dataset\\binary_epvs_groundtruth\\mask\\sub-184\n",
      "found root directory:  dataset\\binary_epvs_groundtruth\\mask\\sub-185\n",
      "found root directory:  dataset\\binary_epvs_groundtruth\\mask\\sub-186\n",
      "found root directory:  dataset\\binary_epvs_groundtruth\\mask\\sub-187\n",
      "found root directory:  dataset\\binary_epvs_groundtruth\\mask\\sub-188\n",
      "found root directory:  dataset\\binary_epvs_groundtruth\\mask\\sub-189\n",
      "found root directory:  dataset\\binary_epvs_groundtruth\\mask\\sub-190\n",
      "found root directory:  dataset\\binary_epvs_groundtruth\\mask\\sub-191\n",
      "found root directory:  dataset\\binary_epvs_groundtruth\\mask\\sub-192\n",
      "found root directory:  dataset\\binary_epvs_groundtruth\\mask\\sub-193\n",
      "found root directory:  dataset\\binary_epvs_groundtruth\\mask\\sub-194\n",
      "found root directory:  dataset\\binary_epvs_groundtruth\\mask\\sub-195\n",
      "found root directory:  dataset\\binary_epvs_groundtruth\\mask\\sub-196\n",
      "found root directory:  dataset\\binary_epvs_groundtruth\\mask\\sub-197\n",
      "found root directory:  dataset\\binary_epvs_groundtruth\\mask\\sub-198\n",
      "found root directory:  dataset\\binary_epvs_groundtruth\\mask\\sub-199\n",
      "found root directory:  dataset\\binary_epvs_groundtruth\\mask\\sub-200\n",
      "found root directory:  dataset\\braindata\n",
      "found root directory:  dataset\\braindata\\sub-001\n",
      "found root directory:  dataset\\braindata\\sub-001\\anat\n"
     ]
    }
   ],
   "execution_count": 16
  },
  {
   "metadata": {
    "ExecuteTime": {
     "end_time": "2025-10-14T11:12:37.789710Z",
     "start_time": "2025-10-14T11:12:37.684376Z"
    }
   },
   "cell_type": "code",
   "source": [
    "\n",
    "if t2_file:\n",
    "    print(\"Found T2W: \", t2_file)\n",
    "    raw_img_sitk = sitk.ReadImage(t2_file)\n",
    "    raw_img_sitk =  sitk.DICOMOrient(raw_img_sitk,'RPS')\n",
    "    raw_img_sitk_arr = sitk.GetArrayFromImage(raw_img_sitk)\n",
    "\n",
    "else:\n",
    "    print(\"No T2W found\")"
   ],
   "id": "31966b3cfb1d1cab",
   "outputs": [
    {
     "name": "stdout",
     "output_type": "stream",
     "text": [
      "Found T2W:  dataset\\braindata\\sub-001\\anat\\sub-001_T2w.nii.gz\n"
     ]
    }
   ],
   "execution_count": 17
  },
  {
   "metadata": {
    "ExecuteTime": {
     "end_time": "2025-10-14T11:12:37.886179Z",
     "start_time": "2025-10-14T11:12:37.802290Z"
    }
   },
   "cell_type": "code",
   "source": "explore_3D_data(raw_img_sitk_arr, cmap=\"gray\")",
   "id": "1da3d5bc65429130",
   "outputs": [
    {
     "data": {
      "text/plain": [
       "interactive(children=(IntSlider(value=159, description='SLICE', max=319), Output()), _dom_classes=('widget-int…"
      ],
      "application/vnd.jupyter.widget-view+json": {
       "version_major": 2,
       "version_minor": 0,
       "model_id": "3f6f9a14b2fc4a6398bfab8b13ee4017"
      }
     },
     "metadata": {},
     "output_type": "display_data"
    }
   ],
   "execution_count": 18
  },
  {
   "metadata": {
    "ExecuteTime": {
     "end_time": "2025-10-14T11:12:38.021671Z",
     "start_time": "2025-10-14T11:12:37.967997Z"
    }
   },
   "cell_type": "code",
   "source": [
    "raw_img_sitk = sitk.ReadImage(\"vesselness_output.nii.gz\")\n",
    "raw_img_sitk = sitk.DICOMOrient(raw_img_sitk, 'RPS')\n",
    "raw_img_sitk_arr = sitk.GetArrayFromImage(raw_img_sitk)\n",
    "\n",
    "explore_3D_data(raw_img_sitk_arr, cmap=\"grey\")"
   ],
   "id": "c79659867abc1b25",
   "outputs": [
    {
     "ename": "RuntimeError",
     "evalue": "Exception thrown in SimpleITK ImageFileReader_Execute: D:\\a\\SimpleITK\\SimpleITK\\Code\\IO\\src\\sitkImageReaderBase.cxx:91:\nsitk::ERROR: The file \"vesselness_output.nii.gz\" does not exist.",
     "output_type": "error",
     "traceback": [
      "\u001B[31m---------------------------------------------------------------------------\u001B[39m",
      "\u001B[31mRuntimeError\u001B[39m                              Traceback (most recent call last)",
      "\u001B[32m~\\AppData\\Local\\Temp\\ipykernel_16240\\3368809679.py\u001B[39m in \u001B[36m?\u001B[39m\u001B[34m()\u001B[39m\n\u001B[32m----> \u001B[39m\u001B[32m1\u001B[39m raw_img_sitk = sitk.ReadImage(\u001B[33m\"vesselness_output.nii.gz\"\u001B[39m)\n\u001B[32m      2\u001B[39m raw_img_sitk = sitk.DICOMOrient(raw_img_sitk, \u001B[33m'RPS'\u001B[39m)\n\u001B[32m      3\u001B[39m raw_img_sitk_arr = sitk.GetArrayFromImage(raw_img_sitk)\n\u001B[32m      4\u001B[39m \n",
      "\u001B[32m~\\PycharmProjects\\epvs_segmentation\\.venv\\Lib\\site-packages\\SimpleITK\\extra.py\u001B[39m in \u001B[36m?\u001B[39m\u001B[34m(fileName, outputPixelType, imageIO)\u001B[39m\n\u001B[32m    380\u001B[39m         reader.SetFileNames(fileName)\n\u001B[32m    381\u001B[39m \n\u001B[32m    382\u001B[39m     reader.SetImageIO(imageIO)\n\u001B[32m    383\u001B[39m     reader.SetOutputPixelType(outputPixelType)\n\u001B[32m--> \u001B[39m\u001B[32m384\u001B[39m     \u001B[38;5;28;01mreturn\u001B[39;00m reader.Execute()\n",
      "\u001B[32m~\\PycharmProjects\\epvs_segmentation\\.venv\\Lib\\site-packages\\SimpleITK\\SimpleITK.py\u001B[39m in \u001B[36m?\u001B[39m\u001B[34m(self)\u001B[39m\n\u001B[32m   8530\u001B[39m         type to be same \u001B[38;5;28;01mas\u001B[39;00m the file. If the pixel type \u001B[38;5;28;01mis\u001B[39;00m specified then the itk::ConvertPixelBuffer will be used to convert the pixels.\n\u001B[32m   8531\u001B[39m \n\u001B[32m   8532\u001B[39m \n\u001B[32m   8533\u001B[39m         \"\"\"\n\u001B[32m-> \u001B[39m\u001B[32m8534\u001B[39m         \u001B[38;5;28;01mreturn\u001B[39;00m _SimpleITK.ImageFileReader_Execute(self)\n",
      "\u001B[31mRuntimeError\u001B[39m: Exception thrown in SimpleITK ImageFileReader_Execute: D:\\a\\SimpleITK\\SimpleITK\\Code\\IO\\src\\sitkImageReaderBase.cxx:91:\nsitk::ERROR: The file \"vesselness_output.nii.gz\" does not exist."
     ]
    }
   ],
   "execution_count": 19
  },
  {
   "metadata": {
    "ExecuteTime": {
     "end_time": "2025-10-14T11:12:38.043438400Z",
     "start_time": "2025-09-27T11:06:59.488246Z"
    }
   },
   "cell_type": "code",
   "source": "n4_filt_img = N4_bias_filter(raw_img_sitk)",
   "id": "b1883deda4ef9d4b",
   "outputs": [],
   "execution_count": 24
  },
  {
   "metadata": {
    "ExecuteTime": {
     "end_time": "2025-10-14T11:12:38.055817500Z",
     "start_time": "2025-09-27T11:07:00.294283Z"
    }
   },
   "cell_type": "code",
   "source": [
    "explore_3D_data_comparison(arr_before=raw_img_sitk_arr,\n",
    "                           arr_after=sitk.GetArrayFromImage(n4_filt_img),\n",
    "                           cmap=\"grey\"\n",
    "                           )"
   ],
   "id": "85e9648dcc9ec1d5",
   "outputs": [
    {
     "data": {
      "text/plain": [
       "interactive(children=(IntSlider(value=159, description='SLICE', max=319), Output()), _dom_classes=('widget-int…"
      ],
      "application/vnd.jupyter.widget-view+json": {
       "version_major": 2,
       "version_minor": 0,
       "model_id": "219562780a334c7d8b75476d44611ae6"
      }
     },
     "metadata": {},
     "output_type": "display_data"
    }
   ],
   "execution_count": 25
  },
  {
   "metadata": {
    "ExecuteTime": {
     "end_time": "2025-10-14T11:12:55.957084Z",
     "start_time": "2025-10-14T11:12:55.932873Z"
    }
   },
   "cell_type": "code",
   "source": [
    "img_mask = sitk.ReadImage(\"vesselness_output.nii.gz\", sitk.sitkFloat32)\n",
    "img_mask = sitk.DICOMOrient(img_mask,'RPS')\n",
    "masked_arr = sitk.GetArrayFromImage(img_mask)\n",
    "\n",
    "raw_img_sitk = sitk.ReadImage(\"dataset/braindata/binary_epvs_groundtruth/mask/sub-001/sub-001_desc-mask_PVS.nii.gz\", sitk.sitkFloat32)\n",
    "raw_img_sitk =  sitk.DICOMOrient(raw_img_sitk,'RPS')\n",
    "raw_img_sitk_arr = sitk.GetArrayFromImage(raw_img_sitk)\n",
    "\n",
    "explore_3D_data_with_mask(\n",
    "    arr=raw_img_sitk_arr,\n",
    "    mask=masked_arr,\n",
    "    alpha=0.8,\n",
    "    cmap=\"grey\"\n",
    ")\n",
    "\n"
   ],
   "id": "6bdae4568bcf5fc6",
   "outputs": [
    {
     "ename": "RuntimeError",
     "evalue": "Exception thrown in SimpleITK ImageFileReader_Execute: D:\\a\\SimpleITK\\SimpleITK\\Code\\IO\\src\\sitkImageReaderBase.cxx:91:\nsitk::ERROR: The file \"vesselness_output.nii.gz\" does not exist.",
     "output_type": "error",
     "traceback": [
      "\u001B[31m---------------------------------------------------------------------------\u001B[39m",
      "\u001B[31mRuntimeError\u001B[39m                              Traceback (most recent call last)",
      "\u001B[32m~\\AppData\\Local\\Temp\\ipykernel_16240\\3843869873.py\u001B[39m in \u001B[36m?\u001B[39m\u001B[34m()\u001B[39m\n\u001B[32m----> \u001B[39m\u001B[32m1\u001B[39m img_mask = sitk.ReadImage(\u001B[33m\"vesselness_output.nii.gz\"\u001B[39m, sitk.sitkFloat32)\n\u001B[32m      2\u001B[39m img_mask = sitk.DICOMOrient(img_mask,\u001B[33m'RPS'\u001B[39m)\n\u001B[32m      3\u001B[39m masked_arr = sitk.GetArrayFromImage(img_mask)\n\u001B[32m      4\u001B[39m \n",
      "\u001B[32m~\\PycharmProjects\\epvs_segmentation\\.venv\\Lib\\site-packages\\SimpleITK\\extra.py\u001B[39m in \u001B[36m?\u001B[39m\u001B[34m(fileName, outputPixelType, imageIO)\u001B[39m\n\u001B[32m    380\u001B[39m         reader.SetFileNames(fileName)\n\u001B[32m    381\u001B[39m \n\u001B[32m    382\u001B[39m     reader.SetImageIO(imageIO)\n\u001B[32m    383\u001B[39m     reader.SetOutputPixelType(outputPixelType)\n\u001B[32m--> \u001B[39m\u001B[32m384\u001B[39m     \u001B[38;5;28;01mreturn\u001B[39;00m reader.Execute()\n",
      "\u001B[32m~\\PycharmProjects\\epvs_segmentation\\.venv\\Lib\\site-packages\\SimpleITK\\SimpleITK.py\u001B[39m in \u001B[36m?\u001B[39m\u001B[34m(self)\u001B[39m\n\u001B[32m   8530\u001B[39m         type to be same \u001B[38;5;28;01mas\u001B[39;00m the file. If the pixel type \u001B[38;5;28;01mis\u001B[39;00m specified then the itk::ConvertPixelBuffer will be used to convert the pixels.\n\u001B[32m   8531\u001B[39m \n\u001B[32m   8532\u001B[39m \n\u001B[32m   8533\u001B[39m         \"\"\"\n\u001B[32m-> \u001B[39m\u001B[32m8534\u001B[39m         \u001B[38;5;28;01mreturn\u001B[39;00m _SimpleITK.ImageFileReader_Execute(self)\n",
      "\u001B[31mRuntimeError\u001B[39m: Exception thrown in SimpleITK ImageFileReader_Execute: D:\\a\\SimpleITK\\SimpleITK\\Code\\IO\\src\\sitkImageReaderBase.cxx:91:\nsitk::ERROR: The file \"vesselness_output.nii.gz\" does not exist."
     ]
    }
   ],
   "execution_count": 20
  },
  {
   "metadata": {
    "ExecuteTime": {
     "end_time": "2025-10-14T11:27:29.419026Z",
     "start_time": "2025-10-14T11:27:29.412423Z"
    }
   },
   "cell_type": "code",
   "source": [
    "import pandas as pd\n",
    "\n",
    "df = pd.read_csv(\"dataset/HUNT3&4_MRI_Sex_age.csv\", header=0)\n",
    "\n",
    "print(df.head(2))\n"
   ],
   "id": "a281dc551e57023e",
   "outputs": [
    {
     "name": "stdout",
     "output_type": "stream",
     "text": [
      "  HUNT4 numbers;HUNT3 numbers\n",
      "0         10215;9410000010908\n",
      "1         23318;9410000010922\n"
     ]
    }
   ],
   "execution_count": 38
  },
  {
   "metadata": {
    "ExecuteTime": {
     "end_time": "2025-10-14T11:34:01.526202Z",
     "start_time": "2025-10-14T11:34:01.505787Z"
    }
   },
   "cell_type": "code",
   "source": [
    "import pandas as pd\n",
    "\n",
    "# Read CSVs with the correct delimiter\n",
    "file1 = pd.read_csv(\"dataset/HUNT3&4_MRI_Sex_age.csv\", sep=\";\")\n",
    "file2 = pd.read_csv(\"dataset/VRS_Numbers.csv\", sep=\";\")\n",
    "\n",
    "# Strip any leading/trailing spaces in column names\n",
    "file1.columns = file1.columns.str.strip()\n",
    "file2.columns = file2.columns.str.strip()\n",
    "\n",
    "# Check column names\n",
    "print(\"File1 columns:\", file1.columns.tolist())\n",
    "print(\"File2 columns:\", file2.columns.tolist())\n",
    "\n",
    "# Merge on the HUNT3 column (after stripping spaces)\n",
    "merged = pd.merge(file1, file2, on=\"HUNT3 numbers\", how=\"inner\")\n",
    "\n",
    "# Save the merged CSV\n",
    "merged.to_csv(\"merged_file.csv\", index=False, sep=\";\")  # keep semicolon separator\n",
    "print(\"Merged file saved as 'merged_file.csv'\")\n"
   ],
   "id": "74282d41e8f12cc8",
   "outputs": [
    {
     "name": "stdout",
     "output_type": "stream",
     "text": [
      "File1 columns: ['HUNT4 numbers', 'HUNT3 numbers']\n",
      "File2 columns: ['Kjønn_m1_k2', 'Ny_beregnet_alder', 'HUNT3 numbers', 'Bg_VH', 'Cso_VH', 'Gruppe_BG', 'Gruppe_CSO', 'TOTALvariabel', 'TOTALgruppe']\n",
      "Merged file saved as 'merged_file.csv'\n"
     ]
    }
   ],
   "execution_count": 42
  },
  {
   "metadata": {},
   "cell_type": "code",
   "outputs": [],
   "execution_count": null,
   "source": "",
   "id": "2630eca784b80cf8"
  }
 ],
 "metadata": {
  "kernelspec": {
   "display_name": "Python 3",
   "language": "python",
   "name": "python3"
  },
  "language_info": {
   "codemirror_mode": {
    "name": "ipython",
    "version": 2
   },
   "file_extension": ".py",
   "mimetype": "text/x-python",
   "name": "python",
   "nbconvert_exporter": "python",
   "pygments_lexer": "ipython2",
   "version": "2.7.6"
  }
 },
 "nbformat": 4,
 "nbformat_minor": 5
}
